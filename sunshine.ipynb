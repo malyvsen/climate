{
 "cells": [
  {
   "cell_type": "code",
   "execution_count": 1,
   "metadata": {},
   "outputs": [],
   "source": [
    "import pandas as pd\n",
    "import plotly.graph_objects as go\n",
    "import requests\n",
    "from tqdm.auto import tqdm"
   ]
  },
  {
   "cell_type": "code",
   "execution_count": 2,
   "metadata": {},
   "outputs": [
    {
     "data": {
      "text/html": [
       "<div>\n",
       "<style scoped>\n",
       "    .dataframe tbody tr th:only-of-type {\n",
       "        vertical-align: middle;\n",
       "    }\n",
       "\n",
       "    .dataframe tbody tr th {\n",
       "        vertical-align: top;\n",
       "    }\n",
       "\n",
       "    .dataframe thead th {\n",
       "        text-align: right;\n",
       "    }\n",
       "</style>\n",
       "<table border=\"1\" class=\"dataframe\">\n",
       "  <thead>\n",
       "    <tr style=\"text-align: right;\">\n",
       "      <th></th>\n",
       "      <th>sunshine</th>\n",
       "    </tr>\n",
       "    <tr>\n",
       "      <th>city</th>\n",
       "      <th></th>\n",
       "    </tr>\n",
       "  </thead>\n",
       "  <tbody>\n",
       "    <tr>\n",
       "      <th>Milan</th>\n",
       "      <td>1.966667</td>\n",
       "    </tr>\n",
       "    <tr>\n",
       "      <th>Naples</th>\n",
       "      <td>3.833333</td>\n",
       "    </tr>\n",
       "    <tr>\n",
       "      <th>Turin</th>\n",
       "      <td>3.733333</td>\n",
       "    </tr>\n",
       "  </tbody>\n",
       "</table>\n",
       "</div>"
      ],
      "text/plain": [
       "        sunshine\n",
       "city            \n",
       "Milan   1.966667\n",
       "Naples  3.833333\n",
       "Turin   3.733333"
      ]
     },
     "execution_count": 2,
     "metadata": {},
     "output_type": "execute_result"
    }
   ],
   "source": [
    "def sunshine_in_month(month: str):\n",
    "    data = fetch_data(f\"https://www.currentresults.com/Weather/Europe/Cities/sunshine-average-{month}.php\")\n",
    "    return data.rename({\"Hours\": \"sunshine\"}, axis=\"columns\") / 30\n",
    "\n",
    "def fetch_data(url: str):\n",
    "    html = requests.get(url).text\n",
    "    tables = pd.read_html(html)\n",
    "    concatenated = pd.concat(tables, ignore_index=True)\n",
    "    split = concatenated[\"City\"].str.split(\", \", expand=True).rename({0: \"city\", 1: \"country\"}, axis=\"columns\")\n",
    "    joined = pd.concat([concatenated.drop(\"City\", axis=\"columns\"), split], axis=\"columns\")\n",
    "    return joined.set_index([\"country\", \"city\"])\n",
    "\n",
    "sunshine_in_month(\"january\").loc[\"Italy\"]"
   ]
  },
  {
   "cell_type": "code",
   "execution_count": 3,
   "metadata": {},
   "outputs": [
    {
     "data": {
      "text/html": [
       "<div>\n",
       "<style scoped>\n",
       "    .dataframe tbody tr th:only-of-type {\n",
       "        vertical-align: middle;\n",
       "    }\n",
       "\n",
       "    .dataframe tbody tr th {\n",
       "        vertical-align: top;\n",
       "    }\n",
       "\n",
       "    .dataframe thead th {\n",
       "        text-align: right;\n",
       "    }\n",
       "</style>\n",
       "<table border=\"1\" class=\"dataframe\">\n",
       "  <thead>\n",
       "    <tr style=\"text-align: right;\">\n",
       "      <th></th>\n",
       "      <th>sunshine</th>\n",
       "      <th>temperature</th>\n",
       "    </tr>\n",
       "    <tr>\n",
       "      <th>city</th>\n",
       "      <th></th>\n",
       "      <th></th>\n",
       "    </tr>\n",
       "  </thead>\n",
       "  <tbody>\n",
       "    <tr>\n",
       "      <th>Milan</th>\n",
       "      <td>1.966667</td>\n",
       "      <td>6.0</td>\n",
       "    </tr>\n",
       "    <tr>\n",
       "      <th>Naples</th>\n",
       "      <td>3.833333</td>\n",
       "      <td>13.0</td>\n",
       "    </tr>\n",
       "    <tr>\n",
       "      <th>Turin</th>\n",
       "      <td>3.733333</td>\n",
       "      <td>7.0</td>\n",
       "    </tr>\n",
       "    <tr>\n",
       "      <th>Rome</th>\n",
       "      <td>NaN</td>\n",
       "      <td>13.0</td>\n",
       "    </tr>\n",
       "  </tbody>\n",
       "</table>\n",
       "</div>"
      ],
      "text/plain": [
       "        sunshine  temperature\n",
       "city                         \n",
       "Milan   1.966667          6.0\n",
       "Naples  3.833333         13.0\n",
       "Turin   3.733333          7.0\n",
       "Rome         NaN         13.0"
      ]
     },
     "execution_count": 3,
     "metadata": {},
     "output_type": "execute_result"
    }
   ],
   "source": [
    "def climate_in_month(month: str):\n",
    "    return pd.concat([sunshine_in_month(month), temperature_in_month(month)], axis=\"columns\")\n",
    "\n",
    "def temperature_in_month(month: str):\n",
    "    full_data = fetch_data(f\"https://www.currentresults.com/Weather/Europe/Cities/temperature-{month}.php\")\n",
    "    return full_data.drop([\"High °F\", \"Low °F\", \"Low °C\"], axis=\"columns\").rename({\"High °C\": \"temperature\"}, axis=\"columns\")\n",
    "\n",
    "climate_in_month(\"january\").loc[\"Italy\"]"
   ]
  },
  {
   "cell_type": "code",
   "execution_count": 4,
   "metadata": {},
   "outputs": [
    {
     "data": {
      "application/vnd.jupyter.widget-view+json": {
       "model_id": "36e0807fe1b64debbb465b4a85a0c2a9",
       "version_major": 2,
       "version_minor": 0
      },
      "text/plain": [
       "  0%|          | 0/12 [00:00<?, ?it/s]"
      ]
     },
     "metadata": {},
     "output_type": "display_data"
    },
    {
     "data": {
      "text/html": [
       "<div>\n",
       "<style scoped>\n",
       "    .dataframe tbody tr th:only-of-type {\n",
       "        vertical-align: middle;\n",
       "    }\n",
       "\n",
       "    .dataframe tbody tr th {\n",
       "        vertical-align: top;\n",
       "    }\n",
       "\n",
       "    .dataframe thead th {\n",
       "        text-align: right;\n",
       "    }\n",
       "</style>\n",
       "<table border=\"1\" class=\"dataframe\">\n",
       "  <thead>\n",
       "    <tr style=\"text-align: right;\">\n",
       "      <th></th>\n",
       "      <th>january</th>\n",
       "      <th>february</th>\n",
       "      <th>march</th>\n",
       "      <th>april</th>\n",
       "      <th>may</th>\n",
       "      <th>june</th>\n",
       "      <th>july</th>\n",
       "      <th>august</th>\n",
       "      <th>september</th>\n",
       "      <th>october</th>\n",
       "      <th>november</th>\n",
       "      <th>december</th>\n",
       "    </tr>\n",
       "    <tr>\n",
       "      <th>city</th>\n",
       "      <th></th>\n",
       "      <th></th>\n",
       "      <th></th>\n",
       "      <th></th>\n",
       "      <th></th>\n",
       "      <th></th>\n",
       "      <th></th>\n",
       "      <th></th>\n",
       "      <th></th>\n",
       "      <th></th>\n",
       "      <th></th>\n",
       "      <th></th>\n",
       "    </tr>\n",
       "  </thead>\n",
       "  <tbody>\n",
       "    <tr>\n",
       "      <th>Lille</th>\n",
       "      <td>2.200000</td>\n",
       "      <td>2.366667</td>\n",
       "      <td>4.033333</td>\n",
       "      <td>5.733333</td>\n",
       "      <td>6.466667</td>\n",
       "      <td>6.866667</td>\n",
       "      <td>7.033333</td>\n",
       "      <td>6.666667</td>\n",
       "      <td>5.066667</td>\n",
       "      <td>3.800000</td>\n",
       "      <td>2.033333</td>\n",
       "      <td>1.666667</td>\n",
       "    </tr>\n",
       "    <tr>\n",
       "      <th>Lyon</th>\n",
       "      <td>2.466667</td>\n",
       "      <td>3.366667</td>\n",
       "      <td>5.666667</td>\n",
       "      <td>6.366667</td>\n",
       "      <td>7.366667</td>\n",
       "      <td>8.466667</td>\n",
       "      <td>9.433333</td>\n",
       "      <td>8.433333</td>\n",
       "      <td>6.500000</td>\n",
       "      <td>4.333333</td>\n",
       "      <td>2.533333</td>\n",
       "      <td>1.800000</td>\n",
       "    </tr>\n",
       "    <tr>\n",
       "      <th>Marseille</th>\n",
       "      <td>4.833333</td>\n",
       "      <td>5.800000</td>\n",
       "      <td>7.966667</td>\n",
       "      <td>8.133333</td>\n",
       "      <td>9.766667</td>\n",
       "      <td>11.100000</td>\n",
       "      <td>12.300000</td>\n",
       "      <td>10.900000</td>\n",
       "      <td>8.633333</td>\n",
       "      <td>6.233333</td>\n",
       "      <td>5.066667</td>\n",
       "      <td>4.500000</td>\n",
       "    </tr>\n",
       "    <tr>\n",
       "      <th>Nice</th>\n",
       "      <td>5.266667</td>\n",
       "      <td>5.700000</td>\n",
       "      <td>7.233333</td>\n",
       "      <td>7.466667</td>\n",
       "      <td>8.900000</td>\n",
       "      <td>10.200000</td>\n",
       "      <td>11.600000</td>\n",
       "      <td>10.533333</td>\n",
       "      <td>8.066667</td>\n",
       "      <td>6.233333</td>\n",
       "      <td>4.966667</td>\n",
       "      <td>4.633333</td>\n",
       "    </tr>\n",
       "    <tr>\n",
       "      <th>Paris</th>\n",
       "      <td>2.066667</td>\n",
       "      <td>2.633333</td>\n",
       "      <td>4.300000</td>\n",
       "      <td>5.533333</td>\n",
       "      <td>6.466667</td>\n",
       "      <td>6.733333</td>\n",
       "      <td>7.066667</td>\n",
       "      <td>7.066667</td>\n",
       "      <td>5.600000</td>\n",
       "      <td>3.933333</td>\n",
       "      <td>2.266667</td>\n",
       "      <td>1.700000</td>\n",
       "    </tr>\n",
       "  </tbody>\n",
       "</table>\n",
       "</div>"
      ],
      "text/plain": [
       "            january  february     march     april       may       june  \\\n",
       "city                                                                     \n",
       "Lille      2.200000  2.366667  4.033333  5.733333  6.466667   6.866667   \n",
       "Lyon       2.466667  3.366667  5.666667  6.366667  7.366667   8.466667   \n",
       "Marseille  4.833333  5.800000  7.966667  8.133333  9.766667  11.100000   \n",
       "Nice       5.266667  5.700000  7.233333  7.466667  8.900000  10.200000   \n",
       "Paris      2.066667  2.633333  4.300000  5.533333  6.466667   6.733333   \n",
       "\n",
       "                july     august  september   october  november  december  \n",
       "city                                                                      \n",
       "Lille       7.033333   6.666667   5.066667  3.800000  2.033333  1.666667  \n",
       "Lyon        9.433333   8.433333   6.500000  4.333333  2.533333  1.800000  \n",
       "Marseille  12.300000  10.900000   8.633333  6.233333  5.066667  4.500000  \n",
       "Nice       11.600000  10.533333   8.066667  6.233333  4.966667  4.633333  \n",
       "Paris       7.066667   7.066667   5.600000  3.933333  2.266667  1.700000  "
      ]
     },
     "execution_count": 4,
     "metadata": {},
     "output_type": "execute_result"
    }
   ],
   "source": [
    "all_months = [\"january\", \"february\", \"march\", \"april\", \"may\", \"june\", \"july\", \"august\", \"september\", \"october\", \"november\", \"december\"]\n",
    "climate_data = pd.concat(\n",
    "    {month: climate_in_month(month) for month in tqdm(all_months)},\n",
    "    axis=\"columns\"\n",
    ").dropna()\n",
    "climate_data.xs(\"sunshine\", axis=\"columns\", level=1).loc[\"France\"]"
   ]
  },
  {
   "cell_type": "code",
   "execution_count": 5,
   "metadata": {},
   "outputs": [
    {
     "data": {
      "text/html": [
       "<div>\n",
       "<style scoped>\n",
       "    .dataframe tbody tr th:only-of-type {\n",
       "        vertical-align: middle;\n",
       "    }\n",
       "\n",
       "    .dataframe tbody tr th {\n",
       "        vertical-align: top;\n",
       "    }\n",
       "\n",
       "    .dataframe thead th {\n",
       "        text-align: right;\n",
       "    }\n",
       "</style>\n",
       "<table border=\"1\" class=\"dataframe\">\n",
       "  <thead>\n",
       "    <tr style=\"text-align: right;\">\n",
       "      <th></th>\n",
       "      <th>least sunshine</th>\n",
       "      <th>low temperature</th>\n",
       "      <th>high temperature</th>\n",
       "    </tr>\n",
       "    <tr>\n",
       "      <th>city</th>\n",
       "      <th></th>\n",
       "      <th></th>\n",
       "      <th></th>\n",
       "    </tr>\n",
       "  </thead>\n",
       "  <tbody>\n",
       "    <tr>\n",
       "      <th>Madrid</th>\n",
       "      <td>4.133333</td>\n",
       "      <td>10.0</td>\n",
       "      <td>31.0</td>\n",
       "    </tr>\n",
       "    <tr>\n",
       "      <th>Barcelona</th>\n",
       "      <td>4.600000</td>\n",
       "      <td>13.0</td>\n",
       "      <td>28.0</td>\n",
       "    </tr>\n",
       "  </tbody>\n",
       "</table>\n",
       "</div>"
      ],
      "text/plain": [
       "           least sunshine  low temperature  high temperature\n",
       "city                                                        \n",
       "Madrid           4.133333             10.0              31.0\n",
       "Barcelona        4.600000             13.0              28.0"
      ]
     },
     "execution_count": 5,
     "metadata": {},
     "output_type": "execute_result"
    }
   ],
   "source": [
    "aggregate_data = pd.concat(\n",
    "    {\n",
    "        \"least sunshine\": climate_data.xs(\"sunshine\", axis=\"columns\", level=1).min(\"columns\"),\n",
    "        \"low temperature\": climate_data.xs(\"temperature\", axis=\"columns\", level=1).min(\"columns\"),\n",
    "        \"high temperature\": climate_data.xs(\"temperature\", axis=\"columns\", level=1).max(\"columns\"),\n",
    "    },\n",
    "    axis=\"columns\"\n",
    ").sort_values(\"least sunshine\")\n",
    "aggregate_data.loc[\"Spain\"]"
   ]
  },
  {
   "cell_type": "code",
   "execution_count": 12,
   "metadata": {},
   "outputs": [
    {
     "data": {
      "application/vnd.plotly.v1+json": {
       "config": {
        "plotlyServerURL": "https://plot.ly"
       },
       "data": [
        {
         "base": [
          2,
          -5,
          -2,
          -6,
          -2,
          -4,
          -3,
          -4,
          -8,
          -1,
          -9,
          6,
          3,
          -2,
          4,
          3,
          3,
          -1,
          7,
          3,
          3,
          2,
          5,
          6,
          8,
          7,
          0,
          6,
          3,
          2,
          4,
          6,
          7,
          3,
          6,
          4,
          8,
          6,
          0,
          6,
          2,
          2,
          5,
          2,
          9,
          5,
          7,
          13,
          10,
          10,
          10,
          14,
          11,
          13,
          13,
          13,
          15,
          15
         ],
         "insidetextanchor": "middle",
         "marker": {
          "color": [
           0.4,
           0.43333333333333335,
           0.6,
           0.6333333333333333,
           0.8,
           0.8333333333333334,
           0.8666666666666667,
           0.9,
           0.9666666666666667,
           1.1,
           1.1,
           1.1,
           1.1666666666666667,
           1.1666666666666667,
           1.1666666666666667,
           1.2333333333333334,
           1.2333333333333334,
           1.2666666666666666,
           1.2666666666666666,
           1.2666666666666666,
           1.3666666666666667,
           1.4333333333333333,
           1.4666666666666666,
           1.5,
           1.5,
           1.5666666666666667,
           1.5666666666666667,
           1.5666666666666667,
           1.6333333333333333,
           1.6333333333333333,
           1.6666666666666667,
           1.6666666666666667,
           1.7,
           1.7,
           1.7,
           1.7333333333333334,
           1.7666666666666666,
           1.8,
           1.9333333333333333,
           1.9666666666666666,
           2.1,
           2.1333333333333333,
           2.1666666666666665,
           2.3333333333333335,
           2.3666666666666667,
           2.6666666666666665,
           3.5,
           3.5,
           3.566666666666667,
           3.6333333333333333,
           4.133333333333334,
           4.233333333333333,
           4.5,
           4.6,
           4.633333333333334,
           4.633333333333334,
           4.733333333333333,
           5.166666666666667
          ],
          "colorbar": {
           "orientation": "h",
           "title": {
            "side": "top",
            "text": "Daily hours of sun in darkest month"
           },
           "y": -0.08
          },
          "showscale": true
         },
         "orientation": "h",
         "text": [
          "Reykjavík",
          "Saint Petersburg",
          "Tallinn",
          "Moscow",
          "Riga",
          "Vilnius",
          "Helsinki",
          "Minsk",
          "Nizhny & Novgorod",
          "Stockholm",
          "Kazan",
          "Glasgow",
          "Zurich",
          "Oslo",
          "Hamburg",
          "Berlin",
          "Ljubljana",
          "Rostov-on-Don",
          "Birmingham",
          "Copenhagen",
          "Sarajevo",
          "Luxembourg",
          "Cologne",
          "Brussels",
          "London",
          "Manchester",
          "Prague",
          "Rotterdam",
          "Munich",
          "Budapest",
          "Zagreb",
          "Lille",
          "Paris",
          "Vienna",
          "Amsterdam",
          "Vaduz",
          "Dublin",
          "Lyon",
          "Chisinau",
          "Milan",
          "Bucharest",
          "Sofia",
          "Belgrade",
          "Pristina",
          "İstanbul",
          "Skopje",
          "Turin",
          "Naples",
          "Podgorica",
          "Andorra la Vella",
          "Madrid",
          "Athens",
          "Marseille",
          "Barcelona",
          "Monaco",
          "Nice",
          "Lisbon",
          "Valletta"
         ],
         "textposition": "inside",
         "type": "bar",
         "x": [
          13,
          22,
          21,
          23,
          22,
          22,
          23,
          22,
          24,
          22,
          25,
          19,
          25,
          22,
          22,
          24,
          27,
          29,
          22,
          21,
          26,
          22,
          24,
          23,
          23,
          21,
          23,
          22,
          23,
          27,
          27,
          23,
          25,
          27,
          22,
          25,
          20,
          28,
          26,
          29,
          29,
          26,
          29,
          27,
          29,
          30,
          28,
          30,
          32,
          26,
          31,
          32,
          30,
          28,
          28,
          28,
          28,
          31
         ]
        }
       ],
       "layout": {
        "height": 2048,
        "template": {
         "data": {
          "bar": [
           {
            "error_x": {
             "color": "#f2f5fa"
            },
            "error_y": {
             "color": "#f2f5fa"
            },
            "marker": {
             "line": {
              "color": "rgb(17,17,17)",
              "width": 0.5
             },
             "pattern": {
              "fillmode": "overlay",
              "size": 10,
              "solidity": 0.2
             }
            },
            "type": "bar"
           }
          ],
          "barpolar": [
           {
            "marker": {
             "line": {
              "color": "rgb(17,17,17)",
              "width": 0.5
             },
             "pattern": {
              "fillmode": "overlay",
              "size": 10,
              "solidity": 0.2
             }
            },
            "type": "barpolar"
           }
          ],
          "carpet": [
           {
            "aaxis": {
             "endlinecolor": "#A2B1C6",
             "gridcolor": "#506784",
             "linecolor": "#506784",
             "minorgridcolor": "#506784",
             "startlinecolor": "#A2B1C6"
            },
            "baxis": {
             "endlinecolor": "#A2B1C6",
             "gridcolor": "#506784",
             "linecolor": "#506784",
             "minorgridcolor": "#506784",
             "startlinecolor": "#A2B1C6"
            },
            "type": "carpet"
           }
          ],
          "choropleth": [
           {
            "colorbar": {
             "outlinewidth": 0,
             "ticks": ""
            },
            "type": "choropleth"
           }
          ],
          "contour": [
           {
            "colorbar": {
             "outlinewidth": 0,
             "ticks": ""
            },
            "colorscale": [
             [
              0,
              "#0d0887"
             ],
             [
              0.1111111111111111,
              "#46039f"
             ],
             [
              0.2222222222222222,
              "#7201a8"
             ],
             [
              0.3333333333333333,
              "#9c179e"
             ],
             [
              0.4444444444444444,
              "#bd3786"
             ],
             [
              0.5555555555555556,
              "#d8576b"
             ],
             [
              0.6666666666666666,
              "#ed7953"
             ],
             [
              0.7777777777777778,
              "#fb9f3a"
             ],
             [
              0.8888888888888888,
              "#fdca26"
             ],
             [
              1,
              "#f0f921"
             ]
            ],
            "type": "contour"
           }
          ],
          "contourcarpet": [
           {
            "colorbar": {
             "outlinewidth": 0,
             "ticks": ""
            },
            "type": "contourcarpet"
           }
          ],
          "heatmap": [
           {
            "colorbar": {
             "outlinewidth": 0,
             "ticks": ""
            },
            "colorscale": [
             [
              0,
              "#0d0887"
             ],
             [
              0.1111111111111111,
              "#46039f"
             ],
             [
              0.2222222222222222,
              "#7201a8"
             ],
             [
              0.3333333333333333,
              "#9c179e"
             ],
             [
              0.4444444444444444,
              "#bd3786"
             ],
             [
              0.5555555555555556,
              "#d8576b"
             ],
             [
              0.6666666666666666,
              "#ed7953"
             ],
             [
              0.7777777777777778,
              "#fb9f3a"
             ],
             [
              0.8888888888888888,
              "#fdca26"
             ],
             [
              1,
              "#f0f921"
             ]
            ],
            "type": "heatmap"
           }
          ],
          "heatmapgl": [
           {
            "colorbar": {
             "outlinewidth": 0,
             "ticks": ""
            },
            "colorscale": [
             [
              0,
              "#0d0887"
             ],
             [
              0.1111111111111111,
              "#46039f"
             ],
             [
              0.2222222222222222,
              "#7201a8"
             ],
             [
              0.3333333333333333,
              "#9c179e"
             ],
             [
              0.4444444444444444,
              "#bd3786"
             ],
             [
              0.5555555555555556,
              "#d8576b"
             ],
             [
              0.6666666666666666,
              "#ed7953"
             ],
             [
              0.7777777777777778,
              "#fb9f3a"
             ],
             [
              0.8888888888888888,
              "#fdca26"
             ],
             [
              1,
              "#f0f921"
             ]
            ],
            "type": "heatmapgl"
           }
          ],
          "histogram": [
           {
            "marker": {
             "pattern": {
              "fillmode": "overlay",
              "size": 10,
              "solidity": 0.2
             }
            },
            "type": "histogram"
           }
          ],
          "histogram2d": [
           {
            "colorbar": {
             "outlinewidth": 0,
             "ticks": ""
            },
            "colorscale": [
             [
              0,
              "#0d0887"
             ],
             [
              0.1111111111111111,
              "#46039f"
             ],
             [
              0.2222222222222222,
              "#7201a8"
             ],
             [
              0.3333333333333333,
              "#9c179e"
             ],
             [
              0.4444444444444444,
              "#bd3786"
             ],
             [
              0.5555555555555556,
              "#d8576b"
             ],
             [
              0.6666666666666666,
              "#ed7953"
             ],
             [
              0.7777777777777778,
              "#fb9f3a"
             ],
             [
              0.8888888888888888,
              "#fdca26"
             ],
             [
              1,
              "#f0f921"
             ]
            ],
            "type": "histogram2d"
           }
          ],
          "histogram2dcontour": [
           {
            "colorbar": {
             "outlinewidth": 0,
             "ticks": ""
            },
            "colorscale": [
             [
              0,
              "#0d0887"
             ],
             [
              0.1111111111111111,
              "#46039f"
             ],
             [
              0.2222222222222222,
              "#7201a8"
             ],
             [
              0.3333333333333333,
              "#9c179e"
             ],
             [
              0.4444444444444444,
              "#bd3786"
             ],
             [
              0.5555555555555556,
              "#d8576b"
             ],
             [
              0.6666666666666666,
              "#ed7953"
             ],
             [
              0.7777777777777778,
              "#fb9f3a"
             ],
             [
              0.8888888888888888,
              "#fdca26"
             ],
             [
              1,
              "#f0f921"
             ]
            ],
            "type": "histogram2dcontour"
           }
          ],
          "mesh3d": [
           {
            "colorbar": {
             "outlinewidth": 0,
             "ticks": ""
            },
            "type": "mesh3d"
           }
          ],
          "parcoords": [
           {
            "line": {
             "colorbar": {
              "outlinewidth": 0,
              "ticks": ""
             }
            },
            "type": "parcoords"
           }
          ],
          "pie": [
           {
            "automargin": true,
            "type": "pie"
           }
          ],
          "scatter": [
           {
            "marker": {
             "line": {
              "color": "#283442"
             }
            },
            "type": "scatter"
           }
          ],
          "scatter3d": [
           {
            "line": {
             "colorbar": {
              "outlinewidth": 0,
              "ticks": ""
             }
            },
            "marker": {
             "colorbar": {
              "outlinewidth": 0,
              "ticks": ""
             }
            },
            "type": "scatter3d"
           }
          ],
          "scattercarpet": [
           {
            "marker": {
             "colorbar": {
              "outlinewidth": 0,
              "ticks": ""
             }
            },
            "type": "scattercarpet"
           }
          ],
          "scattergeo": [
           {
            "marker": {
             "colorbar": {
              "outlinewidth": 0,
              "ticks": ""
             }
            },
            "type": "scattergeo"
           }
          ],
          "scattergl": [
           {
            "marker": {
             "line": {
              "color": "#283442"
             }
            },
            "type": "scattergl"
           }
          ],
          "scattermapbox": [
           {
            "marker": {
             "colorbar": {
              "outlinewidth": 0,
              "ticks": ""
             }
            },
            "type": "scattermapbox"
           }
          ],
          "scatterpolar": [
           {
            "marker": {
             "colorbar": {
              "outlinewidth": 0,
              "ticks": ""
             }
            },
            "type": "scatterpolar"
           }
          ],
          "scatterpolargl": [
           {
            "marker": {
             "colorbar": {
              "outlinewidth": 0,
              "ticks": ""
             }
            },
            "type": "scatterpolargl"
           }
          ],
          "scatterternary": [
           {
            "marker": {
             "colorbar": {
              "outlinewidth": 0,
              "ticks": ""
             }
            },
            "type": "scatterternary"
           }
          ],
          "surface": [
           {
            "colorbar": {
             "outlinewidth": 0,
             "ticks": ""
            },
            "colorscale": [
             [
              0,
              "#0d0887"
             ],
             [
              0.1111111111111111,
              "#46039f"
             ],
             [
              0.2222222222222222,
              "#7201a8"
             ],
             [
              0.3333333333333333,
              "#9c179e"
             ],
             [
              0.4444444444444444,
              "#bd3786"
             ],
             [
              0.5555555555555556,
              "#d8576b"
             ],
             [
              0.6666666666666666,
              "#ed7953"
             ],
             [
              0.7777777777777778,
              "#fb9f3a"
             ],
             [
              0.8888888888888888,
              "#fdca26"
             ],
             [
              1,
              "#f0f921"
             ]
            ],
            "type": "surface"
           }
          ],
          "table": [
           {
            "cells": {
             "fill": {
              "color": "#506784"
             },
             "line": {
              "color": "rgb(17,17,17)"
             }
            },
            "header": {
             "fill": {
              "color": "#2a3f5f"
             },
             "line": {
              "color": "rgb(17,17,17)"
             }
            },
            "type": "table"
           }
          ]
         },
         "layout": {
          "annotationdefaults": {
           "arrowcolor": "#f2f5fa",
           "arrowhead": 0,
           "arrowwidth": 1
          },
          "autotypenumbers": "strict",
          "coloraxis": {
           "colorbar": {
            "outlinewidth": 0,
            "ticks": ""
           }
          },
          "colorscale": {
           "diverging": [
            [
             0,
             "#8e0152"
            ],
            [
             0.1,
             "#c51b7d"
            ],
            [
             0.2,
             "#de77ae"
            ],
            [
             0.3,
             "#f1b6da"
            ],
            [
             0.4,
             "#fde0ef"
            ],
            [
             0.5,
             "#f7f7f7"
            ],
            [
             0.6,
             "#e6f5d0"
            ],
            [
             0.7,
             "#b8e186"
            ],
            [
             0.8,
             "#7fbc41"
            ],
            [
             0.9,
             "#4d9221"
            ],
            [
             1,
             "#276419"
            ]
           ],
           "sequential": [
            [
             0,
             "#0d0887"
            ],
            [
             0.1111111111111111,
             "#46039f"
            ],
            [
             0.2222222222222222,
             "#7201a8"
            ],
            [
             0.3333333333333333,
             "#9c179e"
            ],
            [
             0.4444444444444444,
             "#bd3786"
            ],
            [
             0.5555555555555556,
             "#d8576b"
            ],
            [
             0.6666666666666666,
             "#ed7953"
            ],
            [
             0.7777777777777778,
             "#fb9f3a"
            ],
            [
             0.8888888888888888,
             "#fdca26"
            ],
            [
             1,
             "#f0f921"
            ]
           ],
           "sequentialminus": [
            [
             0,
             "#0d0887"
            ],
            [
             0.1111111111111111,
             "#46039f"
            ],
            [
             0.2222222222222222,
             "#7201a8"
            ],
            [
             0.3333333333333333,
             "#9c179e"
            ],
            [
             0.4444444444444444,
             "#bd3786"
            ],
            [
             0.5555555555555556,
             "#d8576b"
            ],
            [
             0.6666666666666666,
             "#ed7953"
            ],
            [
             0.7777777777777778,
             "#fb9f3a"
            ],
            [
             0.8888888888888888,
             "#fdca26"
            ],
            [
             1,
             "#f0f921"
            ]
           ]
          },
          "colorway": [
           "#636efa",
           "#EF553B",
           "#00cc96",
           "#ab63fa",
           "#FFA15A",
           "#19d3f3",
           "#FF6692",
           "#B6E880",
           "#FF97FF",
           "#FECB52"
          ],
          "font": {
           "color": "#f2f5fa"
          },
          "geo": {
           "bgcolor": "rgb(17,17,17)",
           "lakecolor": "rgb(17,17,17)",
           "landcolor": "rgb(17,17,17)",
           "showlakes": true,
           "showland": true,
           "subunitcolor": "#506784"
          },
          "hoverlabel": {
           "align": "left"
          },
          "hovermode": "closest",
          "mapbox": {
           "style": "dark"
          },
          "paper_bgcolor": "rgb(17,17,17)",
          "plot_bgcolor": "rgb(17,17,17)",
          "polar": {
           "angularaxis": {
            "gridcolor": "#506784",
            "linecolor": "#506784",
            "ticks": ""
           },
           "bgcolor": "rgb(17,17,17)",
           "radialaxis": {
            "gridcolor": "#506784",
            "linecolor": "#506784",
            "ticks": ""
           }
          },
          "scene": {
           "xaxis": {
            "backgroundcolor": "rgb(17,17,17)",
            "gridcolor": "#506784",
            "gridwidth": 2,
            "linecolor": "#506784",
            "showbackground": true,
            "ticks": "",
            "zerolinecolor": "#C8D4E3"
           },
           "yaxis": {
            "backgroundcolor": "rgb(17,17,17)",
            "gridcolor": "#506784",
            "gridwidth": 2,
            "linecolor": "#506784",
            "showbackground": true,
            "ticks": "",
            "zerolinecolor": "#C8D4E3"
           },
           "zaxis": {
            "backgroundcolor": "rgb(17,17,17)",
            "gridcolor": "#506784",
            "gridwidth": 2,
            "linecolor": "#506784",
            "showbackground": true,
            "ticks": "",
            "zerolinecolor": "#C8D4E3"
           }
          },
          "shapedefaults": {
           "line": {
            "color": "#f2f5fa"
           }
          },
          "sliderdefaults": {
           "bgcolor": "#C8D4E3",
           "bordercolor": "rgb(17,17,17)",
           "borderwidth": 1,
           "tickwidth": 0
          },
          "ternary": {
           "aaxis": {
            "gridcolor": "#506784",
            "linecolor": "#506784",
            "ticks": ""
           },
           "baxis": {
            "gridcolor": "#506784",
            "linecolor": "#506784",
            "ticks": ""
           },
           "bgcolor": "rgb(17,17,17)",
           "caxis": {
            "gridcolor": "#506784",
            "linecolor": "#506784",
            "ticks": ""
           }
          },
          "title": {
           "x": 0.05
          },
          "updatemenudefaults": {
           "bgcolor": "#506784",
           "borderwidth": 0
          },
          "xaxis": {
           "automargin": true,
           "gridcolor": "#283442",
           "linecolor": "#506784",
           "ticks": "",
           "title": {
            "standoff": 15
           },
           "zerolinecolor": "#283442",
           "zerolinewidth": 2
          },
          "yaxis": {
           "automargin": true,
           "gridcolor": "#283442",
           "linecolor": "#506784",
           "ticks": "",
           "title": {
            "standoff": 15
           },
           "zerolinecolor": "#283442",
           "zerolinewidth": 2
          }
         }
        },
        "width": 1024,
        "xaxis": {
         "title": {
          "text": "Range of max daily temperature"
         }
        },
        "yaxis": {
         "visible": false
        }
       }
      }
     },
     "metadata": {},
     "output_type": "display_data"
    }
   ],
   "source": [
    "go.Figure(\n",
    "    layout=dict(\n",
    "        yaxis=dict(\n",
    "            visible=False\n",
    "        ),\n",
    "        xaxis_title=\"Range of max daily temperature\",\n",
    "        width=1024,\n",
    "        height=2048,\n",
    "        template=\"plotly_dark\",\n",
    "    ),\n",
    "    data=[\n",
    "        go.Bar(\n",
    "            orientation=\"h\",\n",
    "            base=aggregate_data[\"low temperature\"],\n",
    "            x=aggregate_data[\"high temperature\"],\n",
    "            text=aggregate_data.index.get_level_values(1),\n",
    "            textposition=\"inside\",\n",
    "            insidetextanchor=\"middle\",\n",
    "            marker=dict(\n",
    "                color=aggregate_data[\"least sunshine\"],\n",
    "                showscale=True,\n",
    "                colorbar=dict(\n",
    "                    title=dict(\n",
    "                        text=\"Daily hours of sun in darkest month\",\n",
    "                        side=\"top\",\n",
    "                    ),\n",
    "                    orientation=\"h\",\n",
    "                    y=-0.08,\n",
    "                )\n",
    "            ),\n",
    "        )\n",
    "    ]\n",
    ")"
   ]
  }
 ],
 "metadata": {
  "interpreter": {
   "hash": "4aa268b69e16f15f4c44d743a35c1e87f43bedc18f7e5cfbe30b80ff163028ec"
  },
  "kernelspec": {
   "display_name": "Python 3.9.10 ('.venv': poetry)",
   "language": "python",
   "name": "python3"
  },
  "language_info": {
   "codemirror_mode": {
    "name": "ipython",
    "version": 3
   },
   "file_extension": ".py",
   "mimetype": "text/x-python",
   "name": "python",
   "nbconvert_exporter": "python",
   "pygments_lexer": "ipython3",
   "version": "3.9.10"
  },
  "orig_nbformat": 4
 },
 "nbformat": 4,
 "nbformat_minor": 2
}
